{
  "nbformat": 4,
  "nbformat_minor": 0,
  "metadata": {
    "colab": {
      "provenance": []
    },
    "kernelspec": {
      "name": "python3",
      "display_name": "Python 3"
    },
    "language_info": {
      "name": "python"
    }
  },
  "cells": [
    {
      "cell_type": "code",
      "execution_count": 1,
      "metadata": {
        "id": "bJ_XuheswWP7"
      },
      "outputs": [],
      "source": [
        "import torch\n",
        "import torch.nn as nn\n",
        "import torchvision\n",
        "import torchvision.transforms as transforms"
      ]
    },
    {
      "cell_type": "markdown",
      "source": [
        "# Hyper-parameters\n"
      ],
      "metadata": {
        "id": "2xYI34JuxNCN"
      }
    },
    {
      "cell_type": "code",
      "source": [
        "input_size = 28 * 28    # 784\n",
        "num_classes = 10\n",
        "num_epochs = 5\n",
        "batch_size = 100\n",
        "learning_rate = 0.001"
      ],
      "metadata": {
        "id": "SLfLBQ-gw225"
      },
      "execution_count": 4,
      "outputs": []
    },
    {
      "cell_type": "markdown",
      "source": [
        "# MNIST dataset (images and labels) and Data loader (input pipeline)"
      ],
      "metadata": {
        "id": "fzNmIxXRxYTy"
      }
    },
    {
      "cell_type": "code",
      "source": [
        "train_dataset = torchvision.datasets.MNIST(root='../../data',\n",
        "                                           train=True,\n",
        "                                           transform=transforms.ToTensor(),\n",
        "                                           download=True)\n",
        "\n",
        "test_dataset = torchvision.datasets.MNIST(root='../../data',\n",
        "                                          train=False,\n",
        "                                          transform=transforms.ToTensor())\n",
        "\n",
        "train_loader = torch.utils.data.DataLoader(dataset=train_dataset,\n",
        "                                           batch_size=batch_size,\n",
        "                                           shuffle=True)\n",
        "\n",
        "test_loader = torch.utils.data.DataLoader(dataset=test_dataset,\n",
        "                                          batch_size=batch_size,\n",
        "                                          shuffle=False)\n"
      ],
      "metadata": {
        "id": "gPfgnNMGxXOB"
      },
      "execution_count": 5,
      "outputs": []
    },
    {
      "cell_type": "markdown",
      "source": [
        "# Logistic regression model"
      ],
      "metadata": {
        "id": "XFfI9yM2xfeI"
      }
    },
    {
      "cell_type": "code",
      "source": [
        "model = nn.Linear(input_size, num_classes)"
      ],
      "metadata": {
        "id": "T5XVm5wFxg9K"
      },
      "execution_count": 6,
      "outputs": []
    },
    {
      "cell_type": "markdown",
      "source": [
        "# Loss and optimizer nn.CrossEntropyLoss() computes softmax internally"
      ],
      "metadata": {
        "id": "jplklehjxo85"
      }
    },
    {
      "cell_type": "code",
      "source": [
        "criterion = nn.CrossEntropyLoss()\n",
        "optimizer = torch.optim.SGD(model.parameters(), lr=learning_rate)"
      ],
      "metadata": {
        "id": "u9B498WZxhdw"
      },
      "execution_count": 7,
      "outputs": []
    },
    {
      "cell_type": "markdown",
      "source": [
        "# Train the model\n"
      ],
      "metadata": {
        "id": "1RNZL6DlylB7"
      }
    },
    {
      "cell_type": "code",
      "source": [
        "total_step = len(train_loader)\n",
        "for epoch in range(num_epochs):\n",
        "    for i, (images, labels) in enumerate(train_loader):\n",
        "        # Reshape images to (batch_size, input_size)\n",
        "        images = images.reshape(-1, input_size)\n",
        "\n",
        "        # Forward pass\n",
        "        outputs = model(images)\n",
        "        loss = criterion(outputs, labels)\n",
        "\n",
        "        # Backward and optimize\n",
        "        optimizer.zero_grad()\n",
        "        loss.backward()\n",
        "        optimizer.step()\n",
        "\n",
        "        if (i+1) % 100 == 0:\n",
        "            print ('Epoch [{}/{}], Step [{}/{}], Loss: {:.4f}'\n",
        "                   .format(epoch+1, num_epochs, i+1, total_step, loss.item()))\n"
      ],
      "metadata": {
        "colab": {
          "base_uri": "https://localhost:8080/"
        },
        "id": "GkBb2sQPxr5R",
        "outputId": "ed6b6ce9-b3f0-4110-9f5e-6b8ae2efd30a"
      },
      "execution_count": 8,
      "outputs": [
        {
          "output_type": "stream",
          "name": "stdout",
          "text": [
            "Epoch [1/5], Step [100/600], Loss: 2.2261\n",
            "Epoch [1/5], Step [200/600], Loss: 2.1705\n",
            "Epoch [1/5], Step [300/600], Loss: 2.0518\n",
            "Epoch [1/5], Step [400/600], Loss: 1.9772\n",
            "Epoch [1/5], Step [500/600], Loss: 1.8816\n",
            "Epoch [1/5], Step [600/600], Loss: 1.8219\n",
            "Epoch [2/5], Step [100/600], Loss: 1.7398\n",
            "Epoch [2/5], Step [200/600], Loss: 1.6394\n",
            "Epoch [2/5], Step [300/600], Loss: 1.6380\n",
            "Epoch [2/5], Step [400/600], Loss: 1.5588\n",
            "Epoch [2/5], Step [500/600], Loss: 1.4861\n",
            "Epoch [2/5], Step [600/600], Loss: 1.4398\n",
            "Epoch [3/5], Step [100/600], Loss: 1.3068\n",
            "Epoch [3/5], Step [200/600], Loss: 1.4127\n",
            "Epoch [3/5], Step [300/600], Loss: 1.2796\n",
            "Epoch [3/5], Step [400/600], Loss: 1.2846\n",
            "Epoch [3/5], Step [500/600], Loss: 1.3451\n",
            "Epoch [3/5], Step [600/600], Loss: 1.2862\n",
            "Epoch [4/5], Step [100/600], Loss: 1.2851\n",
            "Epoch [4/5], Step [200/600], Loss: 1.2461\n",
            "Epoch [4/5], Step [300/600], Loss: 1.2065\n",
            "Epoch [4/5], Step [400/600], Loss: 1.1227\n",
            "Epoch [4/5], Step [500/600], Loss: 1.0245\n",
            "Epoch [4/5], Step [600/600], Loss: 1.0136\n",
            "Epoch [5/5], Step [100/600], Loss: 1.0624\n",
            "Epoch [5/5], Step [200/600], Loss: 1.0648\n",
            "Epoch [5/5], Step [300/600], Loss: 0.9995\n",
            "Epoch [5/5], Step [400/600], Loss: 1.0174\n",
            "Epoch [5/5], Step [500/600], Loss: 0.8634\n",
            "Epoch [5/5], Step [600/600], Loss: 1.0005\n"
          ]
        }
      ]
    },
    {
      "cell_type": "markdown",
      "source": [
        "# Test the model"
      ],
      "metadata": {
        "id": "VSI_rXNpywY4"
      }
    },
    {
      "cell_type": "code",
      "source": [
        "# In test phase, we don't need to compute gradients (for memory efficiency)\n",
        "with torch.no_grad():\n",
        "    correct = 0\n",
        "    total = 0\n",
        "    for images, labels in test_loader:\n",
        "        images = images.reshape(-1, input_size)\n",
        "        outputs = model(images)\n",
        "        _, predicted = torch.max(outputs.data, 1)\n",
        "        total += labels.size(0)\n",
        "        correct += (predicted == labels).sum()\n",
        "\n",
        "    print('Accuracy of the model on the 10000 test images: {} %'.format(100 * correct / total))\n"
      ],
      "metadata": {
        "colab": {
          "base_uri": "https://localhost:8080/"
        },
        "id": "_xCyaIYFyoK3",
        "outputId": "75419817-2247-4c32-cd74-c49a81544df0"
      },
      "execution_count": 9,
      "outputs": [
        {
          "output_type": "stream",
          "name": "stdout",
          "text": [
            "Accuracy of the model on the 10000 test images: 83.1500015258789 %\n"
          ]
        }
      ]
    }
  ]
}