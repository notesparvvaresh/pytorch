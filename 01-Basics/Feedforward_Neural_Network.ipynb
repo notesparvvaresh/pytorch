{
  "nbformat": 4,
  "nbformat_minor": 0,
  "metadata": {
    "colab": {
      "provenance": []
    },
    "kernelspec": {
      "name": "python3",
      "display_name": "Python 3"
    },
    "language_info": {
      "name": "python"
    }
  },
  "cells": [
    {
      "cell_type": "code",
      "execution_count": 2,
      "metadata": {
        "id": "fpXU9QmG0Vrw"
      },
      "outputs": [],
      "source": [
        "import torch\n",
        "import torch.nn as nn\n",
        "import torchvision\n",
        "import torchvision.transforms as transforms\n",
        "device = torch.device('cuda' if torch.cuda.is_available() else 'cpu')"
      ]
    },
    {
      "cell_type": "markdown",
      "source": [
        "# Hyper-parameters"
      ],
      "metadata": {
        "id": "jmCHITI01ShV"
      }
    },
    {
      "cell_type": "code",
      "source": [
        "input_size = 784\n",
        "hidden_size = 500\n",
        "num_classes = 10\n",
        "num_epochs = 5\n",
        "batch_size = 100\n",
        "learning_rate = 0.001"
      ],
      "metadata": {
        "id": "x4SICNMd0WT_"
      },
      "execution_count": 3,
      "outputs": []
    },
    {
      "cell_type": "markdown",
      "source": [
        "# MNIST dataset\n"
      ],
      "metadata": {
        "id": "J9L4X33m1Vtp"
      }
    },
    {
      "cell_type": "code",
      "source": [
        "train_dataset = torchvision.datasets.MNIST(root='../../data',\n",
        "                                           train=True,\n",
        "                                           transform=transforms.ToTensor(),\n",
        "                                           download=True)\n",
        "\n",
        "test_dataset = torchvision.datasets.MNIST(root='../../data',\n",
        "                                          train=False,\n",
        "                                          transform=transforms.ToTensor())\n",
        "\n",
        "# Data loader\n",
        "train_loader = torch.utils.data.DataLoader(dataset=train_dataset,\n",
        "                                           batch_size=batch_size,\n",
        "                                           shuffle=True)\n",
        "\n",
        "test_loader = torch.utils.data.DataLoader(dataset=test_dataset,\n",
        "                                          batch_size=batch_size,\n",
        "                                          shuffle=False)\n"
      ],
      "metadata": {
        "colab": {
          "base_uri": "https://localhost:8080/"
        },
        "id": "TYDrJf_w1TJP",
        "outputId": "e10929ac-0f26-48bb-b39e-f46b8d5766dd"
      },
      "execution_count": 4,
      "outputs": [
        {
          "output_type": "stream",
          "name": "stderr",
          "text": [
            "100%|██████████| 9.91M/9.91M [00:00<00:00, 22.3MB/s]\n",
            "100%|██████████| 28.9k/28.9k [00:00<00:00, 621kB/s]\n",
            "100%|██████████| 1.65M/1.65M [00:00<00:00, 5.60MB/s]\n",
            "100%|██████████| 4.54k/4.54k [00:00<00:00, 4.91MB/s]\n"
          ]
        }
      ]
    },
    {
      "cell_type": "markdown",
      "source": [
        "# Fully connected neural network with one hidden layer\n"
      ],
      "metadata": {
        "id": "2QdhQhdp1Y4O"
      }
    },
    {
      "cell_type": "code",
      "source": [
        "class NeuralNet(nn.Module):\n",
        "    def __init__(self, input_size, hidden_size, num_classes):\n",
        "        super(NeuralNet, self).__init__()\n",
        "        self.fc1 = nn.Linear(input_size, hidden_size)\n",
        "        self.relu = nn.ReLU()\n",
        "        self.fc2 = nn.Linear(hidden_size, num_classes)\n",
        "\n",
        "    def forward(self, x):\n",
        "        out = self.fc1(x)\n",
        "        out = self.relu(out)\n",
        "        out = self.fc2(out)\n",
        "        return out\n",
        "\n",
        "model = NeuralNet(input_size, hidden_size, num_classes).to(device)"
      ],
      "metadata": {
        "id": "65D4gh5f1WGo"
      },
      "execution_count": 5,
      "outputs": []
    },
    {
      "cell_type": "markdown",
      "source": [
        "# Loss and optimizer\n"
      ],
      "metadata": {
        "id": "Sgl_JPGf2mBf"
      }
    },
    {
      "cell_type": "code",
      "source": [
        "criterion = nn.CrossEntropyLoss()\n",
        "optimizer = torch.optim.Adam(model.parameters(), lr=learning_rate)\n",
        "\n"
      ],
      "metadata": {
        "id": "pBd1ki602Yu1"
      },
      "execution_count": 6,
      "outputs": []
    },
    {
      "cell_type": "markdown",
      "source": [
        "# Train the model\n"
      ],
      "metadata": {
        "id": "7g1JrLdD2neS"
      }
    },
    {
      "cell_type": "code",
      "source": [
        "total_step = len(train_loader)\n",
        "for epoch in range(num_epochs):\n",
        "    for i, (images, labels) in enumerate(train_loader):\n",
        "        # Move tensors to the configured device\n",
        "        images = images.reshape(-1, 28*28).to(device)\n",
        "        labels = labels.to(device)\n",
        "\n",
        "        # Forward pass\n",
        "        outputs = model(images)\n",
        "        loss = criterion(outputs, labels)\n",
        "\n",
        "        # Backward and optimize\n",
        "        optimizer.zero_grad()\n",
        "        loss.backward()\n",
        "        optimizer.step()\n",
        "\n",
        "        if (i+1) % 100 == 0:\n",
        "            print ('Epoch [{}/{}], Step [{}/{}], Loss: {:.4f}'\n",
        "                   .format(epoch+1, num_epochs, i+1, total_step, loss.item()))\n"
      ],
      "metadata": {
        "colab": {
          "base_uri": "https://localhost:8080/"
        },
        "id": "MrMwjegi2jv-",
        "outputId": "89cd49a9-4615-4230-ebf9-58363eda7d63"
      },
      "execution_count": 7,
      "outputs": [
        {
          "output_type": "stream",
          "name": "stdout",
          "text": [
            "Epoch [1/5], Step [100/600], Loss: 0.4090\n",
            "Epoch [1/5], Step [200/600], Loss: 0.2312\n",
            "Epoch [1/5], Step [300/600], Loss: 0.3114\n",
            "Epoch [1/5], Step [400/600], Loss: 0.1953\n",
            "Epoch [1/5], Step [500/600], Loss: 0.1704\n",
            "Epoch [1/5], Step [600/600], Loss: 0.1068\n",
            "Epoch [2/5], Step [100/600], Loss: 0.2144\n",
            "Epoch [2/5], Step [200/600], Loss: 0.0814\n",
            "Epoch [2/5], Step [300/600], Loss: 0.0932\n",
            "Epoch [2/5], Step [400/600], Loss: 0.1152\n",
            "Epoch [2/5], Step [500/600], Loss: 0.0765\n",
            "Epoch [2/5], Step [600/600], Loss: 0.0541\n",
            "Epoch [3/5], Step [100/600], Loss: 0.0798\n",
            "Epoch [3/5], Step [200/600], Loss: 0.1121\n",
            "Epoch [3/5], Step [300/600], Loss: 0.0899\n",
            "Epoch [3/5], Step [400/600], Loss: 0.1772\n",
            "Epoch [3/5], Step [500/600], Loss: 0.0672\n",
            "Epoch [3/5], Step [600/600], Loss: 0.1104\n",
            "Epoch [4/5], Step [100/600], Loss: 0.0489\n",
            "Epoch [4/5], Step [200/600], Loss: 0.0361\n",
            "Epoch [4/5], Step [300/600], Loss: 0.0275\n",
            "Epoch [4/5], Step [400/600], Loss: 0.0253\n",
            "Epoch [4/5], Step [500/600], Loss: 0.0839\n",
            "Epoch [4/5], Step [600/600], Loss: 0.0986\n",
            "Epoch [5/5], Step [100/600], Loss: 0.0326\n",
            "Epoch [5/5], Step [200/600], Loss: 0.0402\n",
            "Epoch [5/5], Step [300/600], Loss: 0.0914\n",
            "Epoch [5/5], Step [400/600], Loss: 0.0691\n",
            "Epoch [5/5], Step [500/600], Loss: 0.0160\n",
            "Epoch [5/5], Step [600/600], Loss: 0.0281\n"
          ]
        }
      ]
    },
    {
      "cell_type": "markdown",
      "source": [
        "# Test the model"
      ],
      "metadata": {
        "id": "Ko5pNCMt2rwD"
      }
    },
    {
      "cell_type": "code",
      "source": [
        "# In test phase, we don't need to compute gradients (for memory efficiency)\n",
        "with torch.no_grad():\n",
        "    correct = 0\n",
        "    total = 0\n",
        "    for images, labels in test_loader:\n",
        "        images = images.reshape(-1, 28*28).to(device)\n",
        "        labels = labels.to(device)\n",
        "        outputs = model(images)\n",
        "        _, predicted = torch.max(outputs.data, 1)\n",
        "        total += labels.size(0)\n",
        "        correct += (predicted == labels).sum().item()\n",
        "\n",
        "    print('Accuracy of the network on the 10000 test images: {} %'.format(100 * correct / total))\n"
      ],
      "metadata": {
        "colab": {
          "base_uri": "https://localhost:8080/"
        },
        "id": "pQBKERIk2n00",
        "outputId": "24d8775b-6cfe-4d20-ba97-18231b15d6b6"
      },
      "execution_count": 8,
      "outputs": [
        {
          "output_type": "stream",
          "name": "stdout",
          "text": [
            "Accuracy of the network on the 10000 test images: 97.34 %\n"
          ]
        }
      ]
    }
  ]
}